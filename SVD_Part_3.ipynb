{
  "nbformat": 4,
  "nbformat_minor": 0,
  "metadata": {
    "colab": {
      "name": "SVD Part 3.ipynb",
      "provenance": [],
      "collapsed_sections": []
    },
    "kernelspec": {
      "name": "python3",
      "display_name": "Python 3"
    },
    "language_info": {
      "name": "python"
    }
  },
  "cells": [
    {
      "cell_type": "markdown",
      "metadata": {
        "id": "ZSJ9SR5Td2zg"
      },
      "source": [
        "- title: SVD Series Part 3: Linear Regression\n",
        "- date: 2020-09-14 \n",
        "- category: Numerical Analysis\n",
        "- tags: linear algebra, regression\n",
        "- slug: svd-regression\n",
        "- authors: Anas Bouzid\n",
        "- summary: Linear regression is one of the most popular modeling techniques because, in addition to revealing the relationship between variables (like correlation), it provides a simple model in the form of a linear equation that can be used to predict the value of a response variable based on data samples of the predictor variable. In this entry, we will explore how we can use SVDs to build linear regression models from data."
      ]
    },
    {
      "cell_type": "markdown",
      "metadata": {
        "id": "B1A2w9_SI3is"
      },
      "source": [
        "## SVD for Linear Regression"
      ]
    },
    {
      "cell_type": "markdown",
      "source": [
        "A very useful application of Singular Value Decomposition is solving linear systems of equations."
      ],
      "metadata": {
        "id": "pRbjEbYwxpzO"
      }
    },
    {
      "cell_type": "markdown",
      "metadata": {
        "id": "21IeMHrzI7s9"
      },
      "source": [
        "## Linear system of equations"
      ]
    },
    {
      "cell_type": "markdown",
      "metadata": {
        "id": "pL-yybjZhII1"
      },
      "source": [
        "$$\n",
        "\\begin{align}\n",
        "\\underbrace{A}_{\\substack{known\\\\ coefficients}} \\underbrace{x}_{\\substack{unknown\\\\ variables}} = \\underbrace{b}_{\\substack{known\\\\ constants}}\n",
        "\\end{align}\n",
        "$$"
      ]
    },
    {
      "cell_type": "markdown",
      "metadata": {
        "id": "F10hpCHWhIM2"
      },
      "source": [
        "The case where $A$ is a square invertible matrix is of popular focus because $x$ is easily obtained by multiplying both sides by the inverse of $A$ (on the left). Simply put, the solution in this case is just $x = A^{-1}b$."
      ]
    },
    {
      "cell_type": "markdown",
      "metadata": {
        "id": "g1DdPzfPhIQP"
      },
      "source": [
        "\n",
        "SVD allows us to generalize this solution to non-square $A$ matrices which opens up a much larger class of linear systems including many that arise in data analysis and data modeling."
      ]
    },
    {
      "cell_type": "markdown",
      "source": [
        "For the moment, the focus will be on two classes of non-square matrices: underdetermined and overdetermined."
      ],
      "metadata": {
        "id": "E5lqSU-WzjfR"
      }
    },
    {
      "cell_type": "markdown",
      "source": [
        "1.   Underdetermined is the case where the non-square matrix $A$ has dimensions $n<m$. The matrix is called \"underdetermined\" because depending on the values inside the matrix, the situation often arises where there are infinite solutions to a linear system involving $A$.\n",
        "2.  Overdetermined is the case where $A$ has dimensions $n<m$. The matrix is called \"overdetermined\" because it provides the coefficients of a number of expressions containing the unknown components of $x$ where the number of expressions is larger than the number of unknown components. This results in the possibility that there are no solutions to the linear equation.\n",
        "\n"
      ],
      "metadata": {
        "id": "VHsxVizO2BJc"
      }
    },
    {
      "cell_type": "markdown",
      "source": [
        "Singular Value Decomposition is going to allow us to approximately invert the non-square $A$ matrix i.e. compute the pseudo-inverse and with that we can obtain the best fit $x$ to the linear equation. This best fit will either come as close as possible to solving the equation for the overdetermined case or provide the solution with the minimum 2-norm for the underdetermined case.  "
      ],
      "metadata": {
        "id": "bJSKzAp0M4TJ"
      }
    },
    {
      "cell_type": "markdown",
      "source": [
        "With the three matricies obtained from Singular Value Decomposition, we have that\n",
        "\n",
        "\\begin{align*}\n",
        "A = U \\Sigma V^T.\n",
        "\\end{align*}\n",
        "\n",
        "Given that the inverse of a real-valued unitary matrix is just its transpose, we would expect the inverse of $A$ to be,\n",
        "\n",
        "\\begin{align*}\n",
        "A^{-1} = V \\Sigma^{-1} U^T.\n",
        "\\end{align*}\n",
        " \n",
        "We can be check that we do indeed have the pseudo-inverse,\n",
        "\n",
        "\\begin{align*}\n",
        "A^{-1}A = V \\Sigma^{-1} U^T U \\Sigma V^T = \\mathbb{I}.\n",
        "\\end{align*}"
      ],
      "metadata": {
        "id": "sWgBgcUkQ-I9"
      }
    },
    {
      "cell_type": "markdown",
      "source": [
        "Solving the linear equation using the inverse amounts to just multiplying both sides with it,\n",
        "\n",
        "\\begin{align*}\n",
        "A^{-1} Ax &= A^{-1}b\\\\\n",
        "&↓\\\\\n",
        "\\mathbb{I} x &= A^{-1} b\\\\\n",
        "&↓ \\\\\n",
        "\\tilde{x} &= V\\Sigma^{-1}U^T b \n",
        "\\end{align*}"
      ],
      "metadata": {
        "id": "vyzX0NebUVfZ"
      }
    },
    {
      "cell_type": "markdown",
      "source": [
        "Its important to emphasize again that whether or not the pseudo-inverse will give us a solution or an approximation depends on the matrix $A$. For this reason, we use $\\tilde{x}$ to denote the solution obtained using the pseudo-inverse."
      ],
      "metadata": {
        "id": "4mUsmJnbV-Hz"
      }
    },
    {
      "cell_type": "markdown",
      "source": [
        "Additionally, for the overdetermined case where there are no solutions to the linear equation, the approximation obtained using the pseudo-inverse constructed from the output of SVD ($U$, $V$ and $Σ$) will be the one that minimizes the least squares norm $|Ax -b |_{2}$. \n",
        "\n"
      ],
      "metadata": {
        "id": "vrnKpccFXhO5"
      }
    },
    {
      "cell_type": "markdown",
      "source": [
        "***This means that we have a SVD-based method for performing least squares regression!***"
      ],
      "metadata": {
        "id": "cuTolfyvf79U"
      }
    },
    {
      "cell_type": "markdown",
      "source": [
        "For verification, it can be easily shown that for the overdetermined case, $A\\tilde{x}$ is the projection of $b$ onto the span of $A$. In otherwords, it gives the part of $b$ that exists in the column space of $A$. In *even* simpler terms, it gives the greatest part of $b$ that can be constructed from some linear combination of the columns of $A$. The \"greatest part\" here refers to a $\\tilde{b}$ where the sum of the square of the error of each component (the amount away from the actual components of $b$) is minimum."
      ],
      "metadata": {
        "id": "gGBhKXMQb3W2"
      }
    },
    {
      "cell_type": "markdown",
      "source": [
        "## Testing SVD method for linear regression"
      ],
      "metadata": {
        "id": "j1rp8Uzi6LQa"
      }
    },
    {
      "cell_type": "markdown",
      "source": [
        "If we can create a set of points for which the linear regression output is already known (or set beforehand), then we can test our SVD-based regression method by comparing its output to the known output. \n",
        "\n",
        "Here, we choose a line by setting the value of its slope (and assume zero intercept) and then add points that are above the line. The amount above the line is random (but within a set range). Obviously, performing linear regression on these points which are all above the line will not return the line slope parameter in the results. We fix this by adding points that are equal amounts below the line. \n",
        "\n",
        "We expect that performing linear regression on this set of points will return exactly the parameters that define the line we chose and used to create the points in the first place."
      ],
      "metadata": {
        "id": "NByFFEywcZ1J"
      }
    },
    {
      "cell_type": "code",
      "source": [
        "import numpy as np\n",
        "import matplotlib.pyplot as plt\n",
        "\n",
        "plt.rcParams['figure.figsize']=(16, 8)\n",
        "\n",
        "number_of_points = 10\n",
        "line_slope = 2\n",
        "line_intercept = 0\n",
        "x_start = 1\n",
        "x_range = 9\n",
        "y_variation_amplitude = 2\n",
        "\n",
        "random_x_values = np.random.rand(number_of_points)*x_range + x_start\n",
        "line_y_values = random_x_values*line_slope + line_intercept\n",
        "y_variations = np.random.rand(number_of_points)*y_variation_amplitude\n",
        "random_y_values_above = line_y_values + y_variations\n",
        "random_y_values_below = line_y_values - y_variations\n",
        "\n",
        "random_x_values_doubled = np.append(random_x_values, random_x_values)\n",
        "random_y_values = np.append(random_y_values_above, random_y_values_below)\n",
        "\n",
        "plt.plot(random_x_values, line_y_values, \"-\", Color='k', linewidth=5)\n",
        "plt.plot(random_x_values_doubled, random_y_values,\"o\", Color='b')\n",
        "\n",
        "plt.show()\n"
      ],
      "metadata": {
        "colab": {
          "base_uri": "https://localhost:8080/",
          "height": 483
        },
        "id": "TeO5wbmnT-gg",
        "outputId": "d93f5efe-3140-41c4-b87e-214c0d645fc6"
      },
      "execution_count": null,
      "outputs": [
        {
          "output_type": "display_data",
          "data": {
            "text/plain": [
              "<Figure size 1152x576 with 1 Axes>"
            ],
            "image/png": "[encoded data removed]"
          },
          "metadata": {
            "needs_background": "light"
          }
        }
      ]
    },
    {
      "cell_type": "markdown",
      "source": [
        "Before applying the method using SVD, we need to reframe the data ($x$ and $y$ values) in terms of the linear equation $Ax=b$ where $x$ is the set of equation parameters (one for each independent variable) and $b$ is the dependent quantity $y$."
      ],
      "metadata": {
        "id": "s0sgJjA4vlG3"
      }
    },
    {
      "cell_type": "code",
      "source": [
        "A = random_x_values_doubled.reshape(-1,1)\n",
        "b = random_y_values.reshape(-1,1)\n",
        "\n",
        "U, Sigma, V_T = np.linalg.svd(A, full_matrices=False)\n",
        "\n",
        "V = V_T.T\n",
        "Sigma_I = np.linalg.inv(np.diag(Sigma))\n",
        "\n",
        "x_tilde = V@Sigma_I@U.T@b      #@ is matrix multiplication\n",
        "\n",
        "plt.plot(random_x_values, line_y_values, \"-\", color='k', linewidth=5)\n",
        "plt.plot(random_x_values_doubled, random_y_values,\"o\", Color='b')\n",
        "plt.plot(A, A*x_tilde,'--', Color='y')\n",
        "\n",
        "plt.show()\n"
      ],
      "metadata": {
        "colab": {
          "base_uri": "https://localhost:8080/",
          "height": 483
        },
        "id": "ZNuzprQkWLBQ",
        "outputId": "d500d982-8e78-4071-d194-590328f16f17"
      },
      "execution_count": null,
      "outputs": [
        {
          "output_type": "display_data",
          "data": {
            "text/plain": [
              "<Figure size 1152x576 with 1 Axes>"
            ],
            "image/png": "[encoded data removed]"
          },
          "metadata": {
            "needs_background": "light"
          }
        }
      ]
    },
    {
      "cell_type": "markdown",
      "source": [
        "The output of the linear regression $\\tilde{x}$ should contain the equation parameters ie the quantities that are multiplied with the independent variables. Since there is only one independent variable, we should get back the slope. We can easily see that $\\tilde{x}$ contains the slope we chose."
      ],
      "metadata": {
        "id": "bThKMpAKzvjb"
      }
    },
    {
      "cell_type": "code",
      "source": [
        "print(\"Number of parameters in x_tilde is \" + str(len(x_tilde)))\n",
        "print(\"This parameter is \" + str(x_tilde[0,0]) + \" which is the slope we set\")"
      ],
      "metadata": {
        "colab": {
          "base_uri": "https://localhost:8080/"
        },
        "id": "HxsKbO-oWVwp",
        "outputId": "c5efede2-5958-4bb9-b60a-8f021f327bdb"
      },
      "execution_count": null,
      "outputs": [
        {
          "output_type": "stream",
          "name": "stdout",
          "text": [
            "Number of parameters in x_tilde is 1\n",
            "This parameter is 2.0000000000000004 which is the slope we set\n"
          ]
        }
      ]
    }
  ]
}